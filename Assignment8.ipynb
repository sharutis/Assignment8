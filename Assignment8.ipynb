{
 "cells": [
  {
   "cell_type": "markdown",
   "id": "d7344aff",
   "metadata": {},
   "source": [
    "#### Question 1\n",
    "Given the information you have received in the course about the Insertion sort algorithm, implement a function that uses it. The function needs only to accept the array to be sorted as parameter. The function returns nothing. The array is sorted in-place.\n",
    "\n",
    "For example given an array like: [6, 8, 5, 1, 2], the sorted array should be: [1, 2, 5, 6, 8]"
   ]
  },
  {
   "cell_type": "code",
   "execution_count": 1,
   "id": "a5a28de0-abca-4de1-9197-a7e7156d7d4c",
   "metadata": {},
   "outputs": [
    {
     "name": "stdout",
     "output_type": "stream",
     "text": [
      "Sorted array: [1, 2, 5, 6, 8]\n"
     ]
    }
   ],
   "source": [
    "def insertion_sort(array):\n",
    "    \"\"\"\n",
    "    Sort the array using the Insertion sort algorithm\n",
    "    \n",
    "    Parameters:\n",
    "    - array: The array to be sorted\n",
    "    \n",
    "    Returns: Nothing. The array is sorted in-place.\n",
    "    \"\"\"\n",
    "    # Loop through each element in the array starting from the second element\n",
    "    for i in range(1, len(array)):\n",
    "        # Store the current element to be inserted into the sorted part of the array\n",
    "        current_value = array[i]\n",
    "        # Find the correct position for current_value by shifting elements to the right\n",
    "        j = i - 1\n",
    "        while j >= 0 and array[j] > current_value:\n",
    "            array[j + 1] = array[j]\n",
    "            j -= 1\n",
    "        # Insert the current_value in its correct position\n",
    "        array[j + 1] = current_value\n",
    "\n",
    "# Example usage:\n",
    "array = [6, 8, 5, 1, 2]\n",
    "insertion_sort(array)\n",
    "print(\"Sorted array:\", array)  # Output: [1, 2, 5, 6, 8]\n"
   ]
  },
  {
   "cell_type": "code",
   "execution_count": null,
   "id": "eb2ed77d-3c66-4d16-ac50-204fa9b7bf4f",
   "metadata": {},
   "outputs": [],
   "source": []
  }
 ],
 "metadata": {
  "kernelspec": {
   "display_name": "Python 3 (ipykernel)",
   "language": "python",
   "name": "python3"
  },
  "language_info": {
   "codemirror_mode": {
    "name": "ipython",
    "version": 3
   },
   "file_extension": ".py",
   "mimetype": "text/x-python",
   "name": "python",
   "nbconvert_exporter": "python",
   "pygments_lexer": "ipython3",
   "version": "3.12.5"
  }
 },
 "nbformat": 4,
 "nbformat_minor": 5
}
